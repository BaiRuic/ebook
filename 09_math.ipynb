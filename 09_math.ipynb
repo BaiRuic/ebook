{
 "cells": [
  {
   "cell_type": "code",
   "execution_count": 6,
   "metadata": {},
   "outputs": [],
   "source": [
    "import numpy as np\n",
    "import random\n",
    "from typing import List"
   ]
  },
  {
   "cell_type": "markdown",
   "metadata": {},
   "source": [
    "矩阵乘法"
   ]
  },
  {
   "cell_type": "code",
   "execution_count": 3,
   "metadata": {},
   "outputs": [],
   "source": [
    "# 矩阵乘法\n",
    "def matrix_matual(A :List[List[int]], B: List[List[int]]) -> List[List[int]]:\n",
    "    \"\"\"二维矩阵的乘法\n",
    "    A: m*n\n",
    "    B: q*t\n",
    "    \"\"\"\n",
    "    m, n = len(A), len(A[0])\n",
    "    q, t = len(B), len(B[0])\n",
    "\n",
    "    assert n == q, \"A 的列数不等于 B 的行数\"\n",
    "    res = [[0] * t for _ in range(m)]\n",
    "\n",
    "    for i in range(0, m):\n",
    "        for j in range(t):\n",
    "            for k in range(n):\n",
    "                res[i][j] += A[i][k] * B[k][j]\n",
    "\n",
    "    return res   "
   ]
  },
  {
   "cell_type": "code",
   "execution_count": 4,
   "metadata": {},
   "outputs": [
    {
     "name": "stdout",
     "output_type": "stream",
     "text": [
      "[[6556 4815 6888]\n",
      " [7786 6142 8096]\n",
      " [8897 6233 8530]\n",
      " [5769 4557 7724]] [[6556, 4815, 6888], [7786, 6142, 8096], [8897, 6233, 8530], [5769, 4557, 7724]]\n"
     ]
    }
   ],
   "source": [
    "# 测试\n",
    "# test \n",
    "A = np.random.randint(3, 30, (4,7))\n",
    "B = np.random.randint(6, 100, (7, 3))\n",
    "\n",
    "res_np = np.matmul(A, B)\n",
    "res_my = matrix_matual(A.tolist(), B.tolist())\n",
    "\n",
    "print(res_np, res_my)"
   ]
  },
  {
   "cell_type": "markdown",
   "metadata": {},
   "source": [
    "圆周率 $\\pi$ 的计算"
   ]
  },
  {
   "cell_type": "code",
   "execution_count": 11,
   "metadata": {},
   "outputs": [],
   "source": [
    "def calculate_pi(iter_nums: int = 10000) -> float:\n",
    "    \"\"\" 蒙特卡洛方法计算 圆周率 \\pi\n",
    "    \"\"\"\n",
    "    hit = 0\n",
    "    for _ in range(iter_nums):\n",
    "        x = random.uniform(0, 1)\n",
    "        y = random.uniform(0, 1)\n",
    "\n",
    "        if x ** 2 + y ** 2 <= 1:\n",
    "            hit += 1\n",
    "\n",
    "    pi = 4 * hit / iter_nums\n",
    "\n",
    "    return pi "
   ]
  },
  {
   "cell_type": "code",
   "execution_count": 15,
   "metadata": {},
   "outputs": [
    {
     "data": {
      "text/plain": [
       "3.140292"
      ]
     },
     "execution_count": 15,
     "metadata": {},
     "output_type": "execute_result"
    }
   ],
   "source": [
    "calculate_pi(1000000)"
   ]
  },
  {
   "cell_type": "markdown",
   "metadata": {},
   "source": [
    "三门问题\n",
    "\n",
    "出自美国的电视游戏节目，参赛者面前有三扇关闭着的门，其中一扇的后面是一辆汽车，而另外两扇门后面则各藏有一只山羊，选中后面有车的那扇门就可以赢得该汽车\n",
    "\n",
    "当参赛者选定了一扇门，但未去开启它的时候，主持人会开启剩下两扇门中的一扇，露出其中一只山羊。然后问参赛者要不要改变选择，选另一扇仍然关着的门？\n",
    "\n",
    "在主持人告知一个错误值后：\n",
    "+ 不改变原选择，胜率仍为1/3\n",
    "+ 改变选择，胜率会从1/3骤增至2/3\n",
    "即原先猜中错误项的概率转为猜中正确项的概率\n",
    "\n",
    "主持人的动作，实际上是在你要换门之前，排除一个错误选项。\n",
    "\n",
    "只有第一次选对了，不换才能中奖。 第一次选错，换才能中奖。第一次选对的概率是0.33，\n",
    "所以换比不换合适。\n",
    "\n",
    "有n个备选答案，其中1个是对的，n-1个都是错的，比较以下两种方案选中正确答案的概率：\n",
    "1. 一开始选定1个答案，不换。\n",
    "2. 一开始选定1个答案，不要，接着排除掉1个错误答案后，在剩下的n-2个备选答案里再选1个。\n",
    "\n",
    "方案1赢的概率： $\\frac{1}{n}$\n",
    "\n",
    "方案 2 赢的概率为 $\\frac{1}{n} * 0 (选对了，但是换了) + \\frac{n-1}n * \\frac{1}{n-2}(选中了错的，然后排除掉1个，再换掉，就是n-2里选1)  = \\frac{n-1}{n*(n-2)}$"
   ]
  },
  {
   "cell_type": "code",
   "execution_count": 40,
   "metadata": {},
   "outputs": [],
   "source": [
    "def three_door(doors: List[str] = ['goat','goat','car'], iter_nums: int = 1000000, change: bool = False) -> float:\n",
    "    hit_0 = 0\n",
    "    hit_1 = 0\n",
    "\n",
    "    if change is False:\n",
    "        for _ in range(iter_nums):\n",
    "            idx = random.randint(0, 2)\n",
    "            if doors[idx] == \"car\":\n",
    "                hit_0 += 1\n",
    "    \n",
    "        return hit_0 / iter_nums\n",
    "\n",
    "    else:\n",
    "        # 有山羊的门\n",
    "        goat_door = [i for i in range(3) if doors[i] == \"goat\"]\n",
    "        \n",
    "        for _ in range(iter_nums):\n",
    "            idx = random.randint(0, 2)\n",
    "            \n",
    "            # 支持人选择一扇门 山羊的门 \n",
    "            temp_idx = random.randint(0, len(goat_door)-1)\n",
    "            while temp_idx == idx:\n",
    "                temp_idx = random.randint(0, len(goat_door)-1)\n",
    "\n",
    "            # 换的门 是 剩下了的 一扇门\n",
    "            idx = 3 - idx - temp_idx\n",
    "            if doors[idx] == \"car\":\n",
    "                hit_1 += 1\n",
    "\n",
    "        return hit_1 / iter_nums"
   ]
  },
  {
   "cell_type": "code",
   "execution_count": 41,
   "metadata": {},
   "outputs": [
    {
     "name": "stdout",
     "output_type": "stream",
     "text": [
      "0.332514 0.666611\n"
     ]
    }
   ],
   "source": [
    "doors = ['goat','goat','car']\n",
    "\n",
    "random.shuffle(doors)\n",
    "prop_0 = three_door(change=False)\n",
    "prop_1 = three_door(change=True)\n",
    "\n",
    "print(prop_0, prop_1)"
   ]
  },
  {
   "cell_type": "code",
   "execution_count": null,
   "metadata": {},
   "outputs": [],
   "source": []
  }
 ],
 "metadata": {
  "kernelspec": {
   "display_name": "ml",
   "language": "python",
   "name": "ml"
  },
  "language_info": {
   "codemirror_mode": {
    "name": "ipython",
    "version": 3
   },
   "file_extension": ".py",
   "mimetype": "text/x-python",
   "name": "python",
   "nbconvert_exporter": "python",
   "pygments_lexer": "ipython3",
   "version": "3.8.13"
  },
  "orig_nbformat": 4
 },
 "nbformat": 4,
 "nbformat_minor": 2
}
