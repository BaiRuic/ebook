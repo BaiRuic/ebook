{
 "cells": [
  {
   "cell_type": "code",
   "execution_count": 2,
   "id": "4efa8ad5-c608-4487-a499-17606e1ec7a3",
   "metadata": {},
   "outputs": [],
   "source": [
    "import numpy as np"
   ]
  },
  {
   "cell_type": "code",
   "execution_count": 1,
   "id": "86fbe622-b0a8-42b8-b6ab-526ed824d7d2",
   "metadata": {},
   "outputs": [
    {
     "ename": "SyntaxError",
     "evalue": "invalid syntax (<ipython-input-1-cc78ffefffe5>, line 9)",
     "output_type": "error",
     "traceback": [
      "\u001b[1;36m  File \u001b[1;32m\"<ipython-input-1-cc78ffefffe5>\"\u001b[1;36m, line \u001b[1;32m9\u001b[0m\n\u001b[1;33m    self.dw =\u001b[0m\n\u001b[1;37m              ^\u001b[0m\n\u001b[1;31mSyntaxError\u001b[0m\u001b[1;31m:\u001b[0m invalid syntax\n"
     ]
    }
   ],
   "source": [
    "class Linear:\n",
    "    def __init__(self, in_features, out_features, bias):\n",
    "        self.w = np.zeros()\n",
    "        self.b = np.zeros()\n",
    "        \n",
    "    def foraerd(self, input):\n",
    "        return input @ self.w + self.b\n",
    "    def backward(self, pre_grad):\n",
    "        self.dw = \n",
    "        self.db = \n",
    "        return\n",
    "    \n",
    "    def __call__(self, *args, **kwargs):\n",
    "        return self.forward(*arg, **kwarg)        "
   ]
  }
 ],
 "metadata": {
  "kernelspec": {
   "display_name": "Python 3",
   "language": "python",
   "name": "python3"
  },
  "language_info": {
   "codemirror_mode": {
    "name": "ipython",
    "version": 3
   },
   "file_extension": ".py",
   "mimetype": "text/x-python",
   "name": "python",
   "nbconvert_exporter": "python",
   "pygments_lexer": "ipython3",
   "version": "3.8.5"
  }
 },
 "nbformat": 4,
 "nbformat_minor": 5
}
