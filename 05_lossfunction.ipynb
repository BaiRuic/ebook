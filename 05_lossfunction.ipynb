{
 "cells": [
  {
   "cell_type": "code",
   "execution_count": 1,
   "metadata": {},
   "outputs": [],
   "source": [
    "import numpy as np"
   ]
  },
  {
   "cell_type": "markdown",
   "metadata": {},
   "source": [
    "softmax\n",
    "+ 计算每一个元素的 exp\n",
    "+ 计算每一行的 和， keep_dim = True\n",
    "+ 每个元素除 所在行的和"
   ]
  },
  {
   "cell_type": "code",
   "execution_count": 21,
   "metadata": {},
   "outputs": [],
   "source": [
    "def softmax(x):\n",
    "    \"\"\"对输入的每一行计算softmax\n",
    "    param:\n",
    "        x: type: np.array \n",
    "        shape: [batch_size, features] or [features,]\n",
    "    return:\n",
    "        x:\n",
    "            type: np.array\n",
    "            shape: [batch_size, features] or [features,]\n",
    "    \"\"\"\n",
    "    orig_shape = x.shape\n",
    "    if len(orig_shape) > 1:\n",
    "        temp = np.max(x,axis=1, keepdims=True)\n",
    "        x = np.exp(x-temp)\n",
    "\n",
    "        temp = np.sum(x, axis=1, keepdims=True)\n",
    "        x = x / temp\n",
    "    else:\n",
    "        temp = np.max(x)\n",
    "        x = np.exp(x-temp)\n",
    "        x = x / np.sum(x)\n",
    "\n",
    "    return x"
   ]
  },
  {
   "cell_type": "code",
   "execution_count": 20,
   "metadata": {},
   "outputs": [
    {
     "name": "stdout",
     "output_type": "stream",
     "text": [
      "[[1.23394576e-04 9.99876605e-01]\n",
      " [9.99983299e-01 1.67014218e-05]\n",
      " [6.14417460e-06 9.99993856e-01]]\n"
     ]
    }
   ],
   "source": [
    "# test\n",
    "batch_size, features = 3, 2\n",
    "x_2 = np.random.randint(-10, 10, (batch_size, features))\n",
    "y_2 = softmax(x_2)\n",
    "print(y_2)\n"
   ]
  },
  {
   "cell_type": "markdown",
   "metadata": {},
   "source": [
    "sigmoid"
   ]
  },
  {
   "cell_type": "code",
   "execution_count": null,
   "metadata": {},
   "outputs": [],
   "source": [
    "def sigmoid(x):\n",
    "    \"\"\"\n",
    "    params:\n",
    "        x:\n",
    "            type: np.array\n",
    "    return:\n",
    "        s:\n",
    "            type: np.array\n",
    "    \"\"\"\n",
    "    s = 1 / (1 + np.exp(-x))\n",
    "    return s"
   ]
  }
 ],
 "metadata": {
  "interpreter": {
   "hash": "07fac03186cb4872619664373be12749392d231b19ef18aa05ccb0afd9b23cee"
  },
  "kernelspec": {
   "display_name": "Python 3.8.13 ('pytorch')",
   "language": "python",
   "name": "python3"
  },
  "language_info": {
   "codemirror_mode": {
    "name": "ipython",
    "version": 3
   },
   "file_extension": ".py",
   "mimetype": "text/x-python",
   "name": "python",
   "nbconvert_exporter": "python",
   "pygments_lexer": "ipython3",
   "version": "3.8.13"
  },
  "orig_nbformat": 4
 },
 "nbformat": 4,
 "nbformat_minor": 2
}
