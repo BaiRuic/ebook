{
 "cells": [
  {
   "cell_type": "code",
   "execution_count": 1,
   "id": "4efa8ad5-c608-4487-a499-17606e1ec7a3",
   "metadata": {},
   "outputs": [],
   "source": [
    "import numpy as np\n",
    "import torch\n",
    "import torch.nn as nn\n",
    "import torch.nn.functional as F"
   ]
  },
  {
   "cell_type": "code",
   "execution_count": 2,
   "id": "86fbe622-b0a8-42b8-b6ab-526ed824d7d2",
   "metadata": {},
   "outputs": [],
   "source": [
    "class Linear:\n",
    "    def __init__(self, in_features, out_features):\n",
    "        self.w = None\n",
    "        self.b = None\n",
    "        self.dw = None\n",
    "        self.b = None\n",
    "\n",
    "        self.in_features = in_features\n",
    "        self.out_features = out_features\n",
    "        self._init_params()\n",
    "    \n",
    "    def _init_params(self):\n",
    "        mu = 0\n",
    "        sigma = np.sqrt(2 / (self.in_features + self.out_features))\n",
    "        self.w = np.random.normal(mu, sigma, (self.in_features, self.out_features))\n",
    "        self.b = np.zeros((1, self.out_features))\n",
    "        \n",
    "        \n",
    "    def forward(self, input):\n",
    "        self.input = input\n",
    "        return input @ self.w + self.b\n",
    "\n",
    "    def backward(self, pre_grad):\n",
    "        self.dw = self.input.T @ pre_grad\n",
    "        self.db = np.mean(pre_grad, axis=0)\n",
    "        return pre_grad @ self.W.T\n",
    "    \n",
    "    def __call__(self, *args, **kwargs):\n",
    "        return self.forward(*args, **kwargs)\n",
    "\n",
    "    @property\n",
    "    def get_params(self):\n",
    "        return [self.w, self.b]\n",
    "\n",
    "    @property\n",
    "    def get_grads(self):\n",
    "        return [self.dw, self.db]       "
   ]
  },
  {
   "cell_type": "code",
   "execution_count": 6,
   "id": "6ef3a49a",
   "metadata": {},
   "outputs": [],
   "source": [
    "# test\n",
    "batch_size, input_size, output_size = 128, 5, 10\n",
    "\n",
    "x = np.random.randn(batch_size, input_size)\n",
    "my_Linear = Linear(input_size, output_size)\n",
    "my_y = my_Linear(x)"
   ]
  },
  {
   "cell_type": "code",
   "execution_count": null,
   "id": "db7841f5",
   "metadata": {},
   "outputs": [],
   "source": []
  }
 ],
 "metadata": {
  "interpreter": {
   "hash": "07fac03186cb4872619664373be12749392d231b19ef18aa05ccb0afd9b23cee"
  },
  "kernelspec": {
   "display_name": "Python 3.8.13 ('pytorch')",
   "language": "python",
   "name": "python3"
  },
  "language_info": {
   "codemirror_mode": {
    "name": "ipython",
    "version": 3
   },
   "file_extension": ".py",
   "mimetype": "text/x-python",
   "name": "python",
   "nbconvert_exporter": "python",
   "pygments_lexer": "ipython3",
   "version": "3.8.13"
  }
 },
 "nbformat": 4,
 "nbformat_minor": 5
}
