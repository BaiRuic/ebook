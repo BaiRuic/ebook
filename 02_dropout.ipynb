{
 "cells": [
  {
   "cell_type": "code",
   "execution_count": 1,
   "metadata": {},
   "outputs": [],
   "source": [
    "import numpy as np\n",
    "import torch\n",
    "import torch.nn as nn\n",
    "import torch.nn.functional as F"
   ]
  },
  {
   "cell_type": "markdown",
   "metadata": {},
   "source": [
    "在训练过程中，使用来自伯努利分布的样本，以概率p随机地将输入张量的一些元素归零， 即以概率p丢掉一些输入\n",
    "```Python\n",
    "m = nn.Dropout(p=0.2)\n",
    "input = m(input)\n",
    "```\n",
    "大约就会有 20 % 的 值被归为0\n",
    "\n",
    "在预测的时候，为了保证输出期望相同，所以需要乘 1-p, 因为预测的时候，是所有的神经元都参与的。\n",
    "但实际应用中，我们希望 预测的时候尽可能块，尽可能的少计算，所以现有的框架中，对dropout的操作都是在训练的时候，就直接 除 (1-p)，这样在预测的时候就不用再做多余的计算了.\n",
    "即把预测时的 **乘 (1-p)** 放到训练阶段，做了**除 (1-p)**"
   ]
  },
  {
   "cell_type": "code",
   "execution_count": 1,
   "metadata": {},
   "outputs": [],
   "source": [
    "import numpy as np\n",
    "\n",
    "\n",
    "class Dropout:\n",
    "    def __init__(self, p, training=True):\n",
    "        \"\"\"p 丢弃的概率\n",
    "        \"\"\"\n",
    "        self.p = p\n",
    "        self.training = training\n",
    "\n",
    "    def forward(self, input_):\n",
    "        if self.training:\n",
    "            batch_size, features = input_.shape\n",
    "            # self.p 是丢弃的概率，1-self.p 是我们保留的概率\n",
    "            mask = np.random.binomial(1, 1 - self.p, (batch_size, features))\n",
    "            # 元素相乘，即表示 丢弃一部分输入\n",
    "            output = mask * input_\n",
    "            output = output / (1-self.p)\n",
    "        else:\n",
    "            output = input_\n",
    "        return output"
   ]
  },
  {
   "cell_type": "code",
   "execution_count": null,
   "metadata": {},
   "outputs": [],
   "source": [
    "import numpy as np\n",
    "\n",
    "\n",
    "class Dropout:\n",
    "    def __init__(self, p):\n",
    "        \"\"\"p 丢弃的概率\n",
    "        \"\"\"\n",
    "        self.p = p\n",
    "\n",
    "    def forward(self, input_):\n",
    "        batch_size, features = input_.shape\n",
    "        # self.p 是丢弃的概率，1-self.p 是我们保留的概率\n",
    "        mask = np.random.binomial(1, 1 - self.p, (batch_size, features))\n",
    "        # 元素相乘，即表示 丢弃一部分输入\n",
    "        output = mask * input_\n",
    "        return output\n",
    "\n",
    "    def inference(self, input_):\n",
    "        # 为了保证 和训练阶段的期望一致\n",
    "        return input_ / (1-self.p)"
   ]
  }
 ],
 "metadata": {
  "interpreter": {
   "hash": "07fac03186cb4872619664373be12749392d231b19ef18aa05ccb0afd9b23cee"
  },
  "kernelspec": {
   "display_name": "ml",
   "language": "python",
   "name": "python3"
  },
  "language_info": {
   "codemirror_mode": {
    "name": "ipython",
    "version": 3
   },
   "file_extension": ".py",
   "mimetype": "text/x-python",
   "name": "python",
   "nbconvert_exporter": "python",
   "pygments_lexer": "ipython3",
   "version": "3.8.13"
  },
  "orig_nbformat": 4
 },
 "nbformat": 4,
 "nbformat_minor": 2
}
